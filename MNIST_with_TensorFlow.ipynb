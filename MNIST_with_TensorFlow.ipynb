{
  "nbformat": 4,
  "nbformat_minor": 0,
  "metadata": {
    "colab": {
      "name": "MNIST with TensorFlow.ipynb",
      "provenance": [],
      "collapsed_sections": []
    },
    "kernelspec": {
      "name": "python3",
      "display_name": "Python 3"
    },
    "accelerator": "GPU"
  },
  "cells": [
    {
      "cell_type": "code",
      "metadata": {
        "id": "G4V3cOt109B5",
        "colab_type": "code",
        "colab": {}
      },
      "source": [
        "#import libraries\n",
        "import math\n",
        "import numpy as np\n",
        "import h5py\n",
        "import matplotlib.pyplot as plt\n",
        "import scipy\n",
        "from PIL import Image\n",
        "from scipy import ndimage\n",
        "import tensorflow as tf\n",
        "from tensorflow.python.framework import ops\n",
        "\n",
        "(x_train, y_train), (x_test, y_test) = tf.keras.datasets.mnist.load_data()\n",
        "np.random.seed(1)"
      ],
      "execution_count": 0,
      "outputs": []
    },
    {
      "cell_type": "code",
      "metadata": {
        "id": "l-HDar_hH99F",
        "colab_type": "code",
        "colab": {}
      },
      "source": [
        "#helper Functions\n",
        "def random_mini_batches(X, Y, mini_batch_size = 64, seed = 0):\n",
        "    \"\"\"\n",
        "    Creates a list of random minibatches from (X, Y)\n",
        "    \n",
        "    Arguments:\n",
        "    X -- input data, of shape (input size, number of examples) (m, Hi, Wi, Ci)\n",
        "    Y -- true \"label\" vector (containing 0 if cat, 1 if non-cat), of shape (1, number of examples) (m, n_y)\n",
        "    mini_batch_size - size of the mini-batches, integer\n",
        "    seed -- this is only for the purpose of grading, so that you're \"random minibatches are the same as ours.\n",
        "    \n",
        "    Returns:\n",
        "    mini_batches -- list of synchronous (mini_batch_X, mini_batch_Y)\n",
        "    \"\"\"\n",
        "    \n",
        "    m = X.shape[0]                  # number of training examples\n",
        "    mini_batches = []\n",
        "    np.random.seed(seed)\n",
        "    \n",
        "    # Step 1: Shuffle (X, Y)\n",
        "    permutation = list(np.random.permutation(m))\n",
        "    shuffled_X = X[permutation,:,:,:]\n",
        "    shuffled_Y = Y[permutation,:]\n",
        "\n",
        "    # Step 2: Partition (shuffled_X, shuffled_Y). Minus the end case.\n",
        "    num_complete_minibatches = math.floor(m/mini_batch_size) # number of mini batches of size mini_batch_size in your partitionning\n",
        "    for k in range(0, num_complete_minibatches):\n",
        "        mini_batch_X = shuffled_X[k * mini_batch_size : k * mini_batch_size + mini_batch_size,:,:,:]\n",
        "        mini_batch_Y = shuffled_Y[k * mini_batch_size : k * mini_batch_size + mini_batch_size,:]\n",
        "        mini_batch = (mini_batch_X, mini_batch_Y)\n",
        "        mini_batches.append(mini_batch)\n",
        "    \n",
        "    # Handling the end case (last mini-batch < mini_batch_size)\n",
        "    if m % mini_batch_size != 0:\n",
        "        mini_batch_X = shuffled_X[num_complete_minibatches * mini_batch_size : m,:,:,:]\n",
        "        mini_batch_Y = shuffled_Y[num_complete_minibatches * mini_batch_size : m,:]\n",
        "        mini_batch = (mini_batch_X, mini_batch_Y)\n",
        "        mini_batches.append(mini_batch)\n",
        "    \n",
        "    return mini_batches\n",
        "  \n",
        "def convert_to_one_hot(Y, C):\n",
        "    Y = np.eye(C)[Y.reshape(-1)]\n",
        "    return Y"
      ],
      "execution_count": 0,
      "outputs": []
    },
    {
      "cell_type": "code",
      "metadata": {
        "id": "psQWmj9g37hf",
        "colab_type": "code",
        "outputId": "962ac427-41ee-41de-d01f-ad50f8501480",
        "colab": {
          "base_uri": "https://localhost:8080/",
          "height": 486
        }
      },
      "source": [
        "#display samples of the train dataset\n",
        "import matplotlib.pyplot as plt\n",
        "%matplotlib inline \n",
        "image_index = -1 \n",
        "fig=plt.figure(figsize=(8, 8))\n",
        "columns = 3\n",
        "rows = 3\n",
        "for i in range(1, columns*rows +1):\n",
        "    fig.add_subplot(rows, columns, i)\n",
        "    plt.imshow(x_train[image_index+i],cmap='gray')\n",
        "    "
      ],
      "execution_count": 21,
      "outputs": [
        {
          "output_type": "display_data",
          "data": {
            "image/png": "[encoded data removed]",
            "text/plain": [
              "<Figure size 576x576 with 9 Axes>"
            ]
          },
          "metadata": {
            "tags": []
          }
        }
      ]
    },
    {
      "cell_type": "code",
      "metadata": {
        "id": "J9KRZ06T3-i6",
        "colab_type": "code",
        "outputId": "36ac21a4-a3f4-47b9-edaf-d90726c14367",
        "colab": {
          "base_uri": "https://localhost:8080/",
          "height": 119
        }
      },
      "source": [
        "#preprocess the datasets\n",
        "X_train = x_train/255.\n",
        "X_test = x_test/255.\n",
        "\n",
        "#convert the labels into one_hot representation\n",
        "Y_train = convert_to_one_hot(y_train, 10)\n",
        "Y_test = convert_to_one_hot(y_test, 10)\n",
        "\n",
        "#reshape the dataset - so the network knows it's an image\n",
        "X_train = X_train.reshape(X_train.shape[0], 28, 28, 1)\n",
        "X_test = X_test.reshape(X_test.shape[0], 28, 28, 1)\n",
        "\n",
        "#check the shape of the dataset\n",
        "print (\"number of training examples = \" + str(X_train.shape[0]))\n",
        "print (\"number of test examples = \" + str(X_test.shape[0]))\n",
        "print (\"X_train shape: \" + str(X_train.shape))\n",
        "print (\"Y_train shape: \" + str(Y_train.shape))\n",
        "print (\"X_test shape: \" + str(X_test.shape))\n",
        "print (\"Y_test shape: \" + str(Y_test.shape))\n"
      ],
      "execution_count": 22,
      "outputs": [
        {
          "output_type": "stream",
          "text": [
            "number of training examples = 60000\n",
            "number of test examples = 10000\n",
            "X_train shape: (60000, 28, 28, 1)\n",
            "Y_train shape: (60000, 10)\n",
            "X_test shape: (10000, 28, 28, 1)\n",
            "Y_test shape: (10000, 10)\n"
          ],
          "name": "stdout"
        }
      ]
    },
    {
      "cell_type": "code",
      "metadata": {
        "id": "hW7cRqQO4WBX",
        "colab_type": "code",
        "colab": {}
      },
      "source": [
        "#Function to create placeholders for X and Y \n",
        "def create_placeholders(n_H0, n_W0, n_C0, n_y):\n",
        "\n",
        "    X = tf.placeholder(tf.float32,shape=(None,n_H0,n_W0,n_C0))\n",
        "    Y = tf.placeholder(tf.float32,shape=(None,n_y))\n",
        "    \n",
        "    return X, Y\n",
        "  \n",
        "#Function to initialize parameters\n",
        "def initialize_parameters():\n",
        "    \n",
        "    tf.set_random_seed(1)      \n",
        "\n",
        "    W1 = tf.get_variable(\"W1\", [8, 8, 1, 8], initializer =  tf.contrib.layers.xavier_initializer(seed = 0))\n",
        "    W2 = tf.get_variable(\"W2\", [4, 4, 8, 16], initializer =  tf.contrib.layers.xavier_initializer(seed = 0))\n",
        "    W3 = tf.get_variable(\"W3\", [2, 2, 16, 32], initializer =  tf.contrib.layers.xavier_initializer(seed = 0))\n",
        "\n",
        "    parameters = {\"W1\": W1,\n",
        "                  \"W2\": W2,\n",
        "                  \"W3\": W3}\n",
        "    \n",
        "    return parameters\n",
        "  \n",
        "  \n",
        "#Function to create the forward propogation (layers are added in this function)\n",
        "def forward_propagation(X, parameters):\n",
        "    \n",
        "    #initialize weights of the conv filters\n",
        "    W1 = parameters['W1']\n",
        "    W2 = parameters['W2']\n",
        "    W3 = parameters['W3']\n",
        "\n",
        "    \n",
        "    Z1 = tf.nn.conv2d(X,W1, strides = [1,1,1,1], padding = 'SAME')\n",
        "\n",
        "    A1 = tf.nn.relu(Z1)\n",
        "\n",
        "    P1 = tf.nn.max_pool(A1, ksize = [1,8,8,1], strides = [1,8,8,1], padding = 'SAME')\n",
        "\n",
        "    Z2 = tf.nn.conv2d(P1,W2, strides = [1,1,1,1], padding = 'SAME')\n",
        "\n",
        "    A2 = tf.nn.relu(Z2)\n",
        "\n",
        "    P2 = tf.nn.max_pool(A2, ksize = [1,4,4,1], strides = [1,4,4,1], padding = 'SAME')\n",
        "    \n",
        "    Z3 = tf.nn.conv2d(P2,W3, strides = [1,1,1,1], padding = 'SAME')\n",
        "\n",
        "    A3 = tf.nn.relu(Z3)\n",
        "\n",
        "    P3 = tf.nn.max_pool(A3, ksize = [1,2,2,1], strides = [1,2,2,1], padding = 'SAME')\n",
        "\n",
        "    P3 = tf.layers.flatten(A3)\n",
        "    \n",
        "    #the output layer\n",
        "    Z4 = tf.contrib.layers.fully_connected(P3, 10, activation_fn=None)\n",
        "\n",
        "    return Z4\n",
        "  \n",
        "  \n",
        "#Function to create the model, and define hyperparameters\n",
        "def model(X_train, Y_train, X_test, Y_test, optimizer='adam', learning_rate = 0.001,\n",
        "          num_epochs = 150, minibatch_size = 64, print_cost = True):\n",
        "    \n",
        "    \n",
        "    ops.reset_default_graph()                         \n",
        "    tf.set_random_seed(1)                             \n",
        "    seed = 3                                          \n",
        "    (m, H, W, C) = X_train.shape             \n",
        "    n_y = Y_train.shape[1]                            \n",
        "    costs = []                                        \n",
        "    \n",
        "\n",
        "    X, Y = create_placeholders(H, W, C, n_y)\n",
        "\n",
        "\n",
        "    parameters = initialize_parameters()\n",
        "\n",
        "    \n",
        "    Z = forward_propagation(X, parameters)\n",
        "    \n",
        "\n",
        "    cost =tf.reduce_mean(tf.nn.softmax_cross_entropy_with_logits(logits = Z, labels = Y))\n",
        "\n",
        "    \n",
        "    if optimizer=='adagrad':\n",
        "        optimizer = tf.train.AdagradOptimizer(learning_rate = learning_rate).minimize(cost)\n",
        "    elif optimizer=='adagradda':\n",
        "        optimizer = tf.train.AdagradDAOptimizer(learning_rate = learning_rate).minimize(cost)\n",
        "    elif optimizer=='adadelta':\n",
        "        optimizer = tf.train.AdadeltaOptimizer(learning_rate = learning_rate).minimize(cost)\n",
        "    elif optimizer=='adam':\n",
        "        optimizer = tf.train.AdamOptimizer(learning_rate = learning_rate).minimize(cost)\n",
        "\n",
        "        \n",
        "    init = tf.global_variables_initializer()\n",
        "     \n",
        "\n",
        "    with tf.Session() as sess:\n",
        "\n",
        "        sess.run(init)\n",
        "        #mini batch train \n",
        "        for epoch in range(num_epochs):\n",
        "\n",
        "            minibatch_cost = 0.\n",
        "            num_minibatches = int(m / minibatch_size) \n",
        "            seed = seed + 1\n",
        "            minibatches = random_mini_batches(X_train, Y_train, minibatch_size, seed)\n",
        "\n",
        "            for minibatch in minibatches:\n",
        "\n",
        "                (minibatch_X, minibatch_Y) = minibatch\n",
        "                _ , temp_cost = sess.run([optimizer, cost], feed_dict={X: minibatch_X, Y: minibatch_Y})\n",
        "                \n",
        "                minibatch_cost += temp_cost / num_minibatches\n",
        "                \n",
        "\n",
        "            if print_cost == True and epoch % 5 == 0:\n",
        "                print (\"Cost after epoch %i: %f\" % (epoch, minibatch_cost))\n",
        "            if print_cost == True and epoch % 1 == 0:\n",
        "                costs.append(minibatch_cost)\n",
        "        \n",
        "        #plot the cost over epochs\n",
        "        plt.plot(np.squeeze(costs))\n",
        "        plt.ylabel('cost')\n",
        "        plt.xlabel('iterations (per tens)')\n",
        "        plt.title(\"Learning rate =\" + str(learning_rate))\n",
        "        plt.show()\n",
        "\n",
        "        # Calculate the correct predictions\n",
        "        correct_prediction = tf.equal(tf.argmax(Z, 1), tf.argmax(Y, 1))\n",
        "        \n",
        "        # Calculate accuracy on the test set\n",
        "        accuracy = tf.reduce_mean(tf.cast(correct_prediction, \"float\"))\n",
        "        print(accuracy)\n",
        "        train_accuracy = accuracy.eval({X: X_train, Y: Y_train})\n",
        "        test_accuracy = accuracy.eval({X: X_test, Y: Y_test})\n",
        "        print(\"Train Accuracy:\", train_accuracy)\n",
        "        print(\"Test Accuracy:\", test_accuracy)\n",
        "                \n",
        "        return train_accuracy, test_accuracy, parameters"
      ],
      "execution_count": 0,
      "outputs": []
    },
    {
      "cell_type": "code",
      "metadata": {
        "id": "Toa0qUG77etR",
        "colab_type": "code",
        "outputId": "0e62bc66-5d8e-4898-adcc-fec34a3d097e",
        "colab": {
          "base_uri": "https://localhost:8080/",
          "height": 1000
        }
      },
      "source": [
        "train_accuracy, text_accuracy, parameters = model(X_train, Y_train, X_test, Y_test)"
      ],
      "execution_count": 24,
      "outputs": [
        {
          "output_type": "stream",
          "text": [
            "WARNING:tensorflow:\n",
            "The TensorFlow contrib module will not be included in TensorFlow 2.0.\n",
            "For more information, please see:\n",
            "  * https://github.com/tensorflow/community/blob/master/rfcs/20180907-contrib-sunset.md\n",
            "  * https://github.com/tensorflow/addons\n",
            "  * https://github.com/tensorflow/io (for I/O related ops)\n",
            "If you depend on functionality not listed there, please file an issue.\n",
            "\n",
            "WARNING:tensorflow:From <ipython-input-23-755a47058470>:51: flatten (from tensorflow.python.layers.core) is deprecated and will be removed in a future version.\n",
            "Instructions for updating:\n",
            "Use keras.layers.flatten instead.\n",
            "WARNING:tensorflow:Entity <bound method Flatten.call of <tensorflow.python.layers.core.Flatten object at 0x7f10529fbc50>> could not be transformed and will be executed as-is. Please report this to the AutgoGraph team. When filing the bug, set the verbosity to 10 (on Linux, `export AUTOGRAPH_VERBOSITY=10`) and attach the full output. Cause: converting <bound method Flatten.call of <tensorflow.python.layers.core.Flatten object at 0x7f10529fbc50>>: AttributeError: module 'gast' has no attribute 'Num'\n",
            "WARNING: Entity <bound method Flatten.call of <tensorflow.python.layers.core.Flatten object at 0x7f10529fbc50>> could not be transformed and will be executed as-is. Please report this to the AutgoGraph team. When filing the bug, set the verbosity to 10 (on Linux, `export AUTOGRAPH_VERBOSITY=10`) and attach the full output. Cause: converting <bound method Flatten.call of <tensorflow.python.layers.core.Flatten object at 0x7f10529fbc50>>: AttributeError: module 'gast' has no attribute 'Num'\n",
            "WARNING:tensorflow:Entity <bound method Dense.call of <tensorflow.python.layers.core.Dense object at 0x7f105175eef0>> could not be transformed and will be executed as-is. Please report this to the AutgoGraph team. When filing the bug, set the verbosity to 10 (on Linux, `export AUTOGRAPH_VERBOSITY=10`) and attach the full output. Cause: converting <bound method Dense.call of <tensorflow.python.layers.core.Dense object at 0x7f105175eef0>>: AssertionError: Bad argument number for Name: 3, expecting 4\n",
            "WARNING: Entity <bound method Dense.call of <tensorflow.python.layers.core.Dense object at 0x7f105175eef0>> could not be transformed and will be executed as-is. Please report this to the AutgoGraph team. When filing the bug, set the verbosity to 10 (on Linux, `export AUTOGRAPH_VERBOSITY=10`) and attach the full output. Cause: converting <bound method Dense.call of <tensorflow.python.layers.core.Dense object at 0x7f105175eef0>>: AssertionError: Bad argument number for Name: 3, expecting 4\n",
            "WARNING:tensorflow:From <ipython-input-23-755a47058470>:81: softmax_cross_entropy_with_logits (from tensorflow.python.ops.nn_ops) is deprecated and will be removed in a future version.\n",
            "Instructions for updating:\n",
            "\n",
            "Future major versions of TensorFlow will allow gradients to flow\n",
            "into the labels input on backprop by default.\n",
            "\n",
            "See `tf.nn.softmax_cross_entropy_with_logits_v2`.\n",
            "\n",
            "Cost after epoch 0: 0.612073\n",
            "Cost after epoch 5: 0.099441\n",
            "Cost after epoch 10: 0.073109\n",
            "Cost after epoch 15: 0.060353\n",
            "Cost after epoch 20: 0.054840\n",
            "Cost after epoch 25: 0.049156\n",
            "Cost after epoch 30: 0.044039\n",
            "Cost after epoch 35: 0.041220\n",
            "Cost after epoch 40: 0.038202\n",
            "Cost after epoch 45: 0.035070\n",
            "Cost after epoch 50: 0.032667\n",
            "Cost after epoch 55: 0.031406\n",
            "Cost after epoch 60: 0.030077\n",
            "Cost after epoch 65: 0.029792\n",
            "Cost after epoch 70: 0.026673\n",
            "Cost after epoch 75: 0.025343\n",
            "Cost after epoch 80: 0.026677\n",
            "Cost after epoch 85: 0.024902\n",
            "Cost after epoch 90: 0.023621\n",
            "Cost after epoch 95: 0.023402\n",
            "Cost after epoch 100: 0.020114\n",
            "Cost after epoch 105: 0.021778\n",
            "Cost after epoch 110: 0.021182\n",
            "Cost after epoch 115: 0.018959\n",
            "Cost after epoch 120: 0.017673\n",
            "Cost after epoch 125: 0.017470\n",
            "Cost after epoch 130: 0.018454\n",
            "Cost after epoch 135: 0.018474\n",
            "Cost after epoch 140: 0.016261\n",
            "Cost after epoch 145: 0.017526\n"
          ],
          "name": "stdout"
        },
        {
          "output_type": "display_data",
          "data": {
            "image/png": "[encoded data removed]",
            "text/plain": [
              "<Figure size 432x288 with 1 Axes>"
            ]
          },
          "metadata": {
            "tags": []
          }
        },
        {
          "output_type": "stream",
          "text": [
            "Tensor(\"Mean_1:0\", shape=(), dtype=float32)\n",
            "Train Accuracy: 0.9924333\n",
            "Test Accuracy: 0.9804\n"
          ],
          "name": "stdout"
        }
      ]
    },
    {
      "cell_type": "code",
      "metadata": {
        "id": "xzkPL0T5G1iR",
        "colab_type": "code",
        "colab": {}
      },
      "source": [
        ""
      ],
      "execution_count": 0,
      "outputs": []
    }
  ]
}